{
 "cells": [
  {
   "cell_type": "code",
   "execution_count": 3,
   "metadata": {
    "collapsed": false
   },
   "outputs": [
    {
     "data": {
      "text/plain": [
       "'file:///Users/yoannboj/Work/d3like/temp-plot.html'"
      ]
     },
     "execution_count": 3,
     "metadata": {},
     "output_type": "execute_result"
    }
   ],
   "source": [
    "from datetime import date, datetime, timedelta\n",
    "import random\n",
    "import pandas as pd\n",
    "import matplotlib.pyplot as plt\n",
    "import plotly.offline as py\n",
    "import cufflinks as cf\n",
    "import plotly.graph_objs as go\n",
    "\n",
    "def perdelta(start, end, delta):\n",
    "    list_dates=[]\n",
    "    \n",
    "    curr = start\n",
    "    while curr < end:\n",
    "        #yield curr\n",
    "        list_dates.append(curr)\n",
    "        curr += delta\n",
    "    \n",
    "    return list_dates\n",
    "\n",
    "py.init_notebook_mode()\n",
    "\n",
    "choices = [\"OK\",\"KO\"]\n",
    "dates = perdelta(datetime(2016,01,05,00,00),datetime.now(),timedelta(minutes=5))\n",
    "status = []\n",
    "for d in dates:\n",
    "    status.append(random.choice(choices))\n",
    "\n",
    "df = pd.DataFrame(data={'weekday':[x.weekday() for x in dates],'hour':[x.hour for x in dates],'statut':status})\n",
    "\n",
    "res=[[0 for y in range(0,24)] for x in range(1,8)]\n",
    "\n",
    "for i in range(0,len(dates)):\n",
    "    if status[i] == \"OK\":\n",
    "        res[dates[i].weekday()][dates[i].hour] = res[dates[i].weekday()][dates[i].hour] + 1\n",
    "\n",
    "data = [\n",
    "    go.Heatmap(\n",
    "        z=res,\n",
    "        x=[str(x)+\"h\" for x in range(0,24)],\n",
    "        y=[\"Lundi\",\"Mardi\",\"Mercredi\",\"Jeudi\",\"Vendredi\",\"Samedi\",\"Dimanche\"],\n",
    "        colorscale=[[0.0, 'rgb(165,0,38)'], [0.1111111111111111, 'rgb(215,48,39)'], [0.2222222222222222, 'rgb(244,109,67)'], [0.3333333333333333, 'rgb(253,174,97)'], [0.4444444444444444, 'rgb(254,224,144)'], [0.5555555555555556, 'rgb(224,243,248)'], [0.6666666666666666, 'rgb(171,217,233)'], [0.7777777777777778, 'rgb(116,173,209)'], [0.8888888888888888, 'rgb(69,117,180)'], [1.0, 'rgb(49,54,149)']]\n",
    "    )\n",
    "]\n",
    "\n",
    "\n",
    "\n",
    "layout = go.Layout(\n",
    "    title='Disponibilité Passerelle B37',\n",
    ")\n",
    "\n",
    "fig = go.Figure(data=data, layout=layout)\n",
    "py.plot(fig)\n",
    "\n",
    "#cf.set_config_file(offline=True, world_readable=True, theme='pearl')\n",
    "\n",
    "#cf.datagen.heatmap(20,20).iplot(kind='heatmap',colorscale='spectral')"
   ]
  },
  {
   "cell_type": "code",
   "execution_count": null,
   "metadata": {
    "collapsed": true
   },
   "outputs": [],
   "source": []
  },
  {
   "cell_type": "code",
   "execution_count": null,
   "metadata": {
    "collapsed": true
   },
   "outputs": [],
   "source": []
  },
  {
   "cell_type": "code",
   "execution_count": null,
   "metadata": {
    "collapsed": true
   },
   "outputs": [],
   "source": []
  }
 ],
 "metadata": {
  "kernelspec": {
   "display_name": "Python 2",
   "language": "python",
   "name": "python2"
  },
  "language_info": {
   "codemirror_mode": {
    "name": "ipython",
    "version": 2
   },
   "file_extension": ".py",
   "mimetype": "text/x-python",
   "name": "python",
   "nbconvert_exporter": "python",
   "pygments_lexer": "ipython2",
   "version": "2.7.11"
  }
 },
 "nbformat": 4,
 "nbformat_minor": 0
}
